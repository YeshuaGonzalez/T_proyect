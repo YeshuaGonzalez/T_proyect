{
 "cells": [
  {
   "cell_type": "code",
   "execution_count": 1,
   "id": "03fe1e12",
   "metadata": {},
   "outputs": [],
   "source": [
    "#bibliotecas\n",
    "\n",
    "#Bibliotecas\n",
    "import h5py\n",
    "import numpy as np\n",
    "import matplotlib.pyplot as plt\n",
    "import matplotlib\n",
    "import sys\n",
    "##Generar un archivo PKL\n",
    "import pickle \n",
    "#sys.path.insert(1, '/home/yeshua/Documentos/repositorios/T_proyect')\n",
    "sys.path.insert(1, 'C:\\\\Users\\\\gojiy\\\\Documents\\\\tesis\\\\repositorios\\\\T_proyect')\n",
    "import utiles"
   ]
  },
  {
   "cell_type": "markdown",
   "id": "f96cfccb",
   "metadata": {},
   "source": [
    "# Carga de datos"
   ]
  },
  {
   "cell_type": "code",
   "execution_count": 6,
   "id": "72a5f424",
   "metadata": {},
   "outputs": [
    {
     "name": "stdout",
     "output_type": "stream",
     "text": [
      "Size TTL pulse: 100000\n",
      "Size signal: 6000000\n",
      "Tamaño señal (puntos): 6000000\n",
      "\n"
     ]
    },
    {
     "ename": "NameError",
     "evalue": "name 'min_num_spikes' is not defined",
     "output_type": "error",
     "traceback": [
      "\u001b[1;31m---------------------------------------------------------------------------\u001b[0m",
      "\u001b[1;31mNameError\u001b[0m                                 Traceback (most recent call last)",
      "\u001b[1;32m~\\AppData\\Local\\Temp\\ipykernel_8924\\3597635415.py\u001b[0m in \u001b[0;36m<module>\u001b[1;34m\u001b[0m\n\u001b[0;32m     31\u001b[0m \u001b[0mkeys_ts\u001b[0m \u001b[1;33m=\u001b[0m \u001b[1;33m[\u001b[0m\u001b[1;33m]\u001b[0m\u001b[1;33m\u001b[0m\u001b[1;33m\u001b[0m\u001b[0m\n\u001b[0;32m     32\u001b[0m \u001b[1;32mfor\u001b[0m \u001b[0mi\u001b[0m \u001b[1;32min\u001b[0m \u001b[0mrange\u001b[0m\u001b[1;33m(\u001b[0m\u001b[1;36m0\u001b[0m\u001b[1;33m,\u001b[0m \u001b[0mlen\u001b[0m\u001b[1;33m(\u001b[0m\u001b[0mkeys\u001b[0m\u001b[1;33m)\u001b[0m\u001b[1;33m)\u001b[0m\u001b[1;33m:\u001b[0m\u001b[1;33m\u001b[0m\u001b[1;33m\u001b[0m\u001b[0m\n\u001b[1;32m---> 33\u001b[1;33m     \u001b[1;32mif\u001b[0m \u001b[1;34m\"SegmentData_ts\"\u001b[0m \u001b[1;32min\u001b[0m \u001b[0mkeys\u001b[0m\u001b[1;33m[\u001b[0m\u001b[0mi\u001b[0m\u001b[1;33m]\u001b[0m \u001b[1;32mand\u001b[0m \u001b[1;33m(\u001b[0m\u001b[0msegments\u001b[0m\u001b[1;33m[\u001b[0m\u001b[0mkeys\u001b[0m\u001b[1;33m[\u001b[0m\u001b[0mi\u001b[0m\u001b[1;33m]\u001b[0m\u001b[1;33m]\u001b[0m\u001b[1;33m.\u001b[0m\u001b[0mshape\u001b[0m\u001b[1;33m[\u001b[0m\u001b[1;36m1\u001b[0m\u001b[1;33m]\u001b[0m \u001b[1;33m>=\u001b[0m \u001b[0mmin_num_spikes\u001b[0m\u001b[1;33m)\u001b[0m\u001b[1;33m:\u001b[0m\u001b[1;33m\u001b[0m\u001b[1;33m\u001b[0m\u001b[0m\n\u001b[0m\u001b[0;32m     34\u001b[0m         \u001b[0mkeys_ts\u001b[0m\u001b[1;33m.\u001b[0m\u001b[0mappend\u001b[0m\u001b[1;33m(\u001b[0m\u001b[0mkeys\u001b[0m\u001b[1;33m[\u001b[0m\u001b[0mi\u001b[0m\u001b[1;33m]\u001b[0m\u001b[1;33m)\u001b[0m\u001b[1;33m\u001b[0m\u001b[1;33m\u001b[0m\u001b[0m\n\u001b[0;32m     35\u001b[0m         \u001b[0mprint\u001b[0m\u001b[1;33m(\u001b[0m\u001b[1;34m\"{} : {} --> {}\"\u001b[0m\u001b[1;33m.\u001b[0m\u001b[0mformat\u001b[0m\u001b[1;33m(\u001b[0m\u001b[0mi\u001b[0m\u001b[1;33m,\u001b[0m \u001b[0mkeys\u001b[0m\u001b[1;33m[\u001b[0m\u001b[0mi\u001b[0m\u001b[1;33m]\u001b[0m\u001b[1;33m,\u001b[0m \u001b[0msegments\u001b[0m\u001b[1;33m[\u001b[0m\u001b[0mkeys\u001b[0m\u001b[1;33m[\u001b[0m\u001b[0mi\u001b[0m\u001b[1;33m]\u001b[0m\u001b[1;33m]\u001b[0m\u001b[1;33m.\u001b[0m\u001b[0mshape\u001b[0m\u001b[1;33m[\u001b[0m\u001b[1;36m1\u001b[0m\u001b[1;33m]\u001b[0m\u001b[1;33m)\u001b[0m\u001b[1;33m)\u001b[0m\u001b[1;33m\u001b[0m\u001b[1;33m\u001b[0m\u001b[0m\n",
      "\u001b[1;31mNameError\u001b[0m: name 'min_num_spikes' is not defined"
     ]
    }
   ],
   "source": [
    "#WINDOWS\n",
    "path_file = \"E:\\\\MEA_data\\\\20230622\\\\datamanager\\\\Rebanada02\\\\\"\n",
    "#LINUX\n",
    "#path_file = \"/media/yeshua/ZEILER/T_proyect/20230622/datamanager/Rebanada02/\"\n",
    "\n",
    "namefile = \"L6.h5\" #L6 -> 88\n",
    "start = 90000\n",
    "finish = 95000\n",
    "\n",
    "#RAW file\n",
    "file_raw = h5py.File(path_file+namefile)\n",
    "signal_electrode = np.array(file_raw['Data']['Recording_0']['AnalogStream']['Stream_0']['ChannelData'][0])\n",
    "size_signal = len(signal_electrode)\n",
    "st_1s = utiles.StiGen(size_signal, 10000, 9, 1000, 0, 1)\n",
    "\n",
    "x = np.arange(0,size_signal)[start:finish]\n",
    "y = signal_electrode[start:finish]\n",
    "z = st_1s[start:finish]*400\n",
    "\n",
    "print(\"Tamaño señal (puntos): {}\".format(size_signal))\n",
    "\n",
    "#Spikes data\n",
    "\n",
    "namefile = \"OPTOa20230622s02_SPK.h5\"\n",
    "file_spk = h5py.File(path_file + namefile)\n",
    "segments = file_spk['Data']['Recording_0']['SegmentStream']['Stream_0']\n",
    "keys = list(segments.keys())\n",
    "\n",
    "'''Electrodos con mas de 100 spikes'''\n",
    "min_num_spikes = 100\n",
    "print()\n",
    "keys_ts = []\n",
    "for i in range(0, len(keys)):\n",
    "    if \"SegmentData_ts\" in keys[i] and (segments[keys[i]].shape[1] >= min_num_spikes):\n",
    "        keys_ts.append(keys[i])\n",
    "        print(\"{} : {} --> {}\".format(i, keys[i], segments[keys[i]].shape[1]))\n",
    "print(\"Número de segmentos detectados: {}\".format(len(keys_ts)))"
   ]
  },
  {
   "cell_type": "code",
   "execution_count": 3,
   "id": "9070f710",
   "metadata": {},
   "outputs": [
    {
     "ename": "AttributeError",
     "evalue": "'Dataset' object has no attribute 'keys'",
     "output_type": "error",
     "traceback": [
      "\u001b[1;31m---------------------------------------------------------------------------\u001b[0m",
      "\u001b[1;31mAttributeError\u001b[0m                            Traceback (most recent call last)",
      "\u001b[1;32m~\\AppData\\Local\\Temp\\ipykernel_8924\\1500739541.py\u001b[0m in \u001b[0;36m<module>\u001b[1;34m\u001b[0m\n\u001b[1;32m----> 1\u001b[1;33m \u001b[0mfile_raw\u001b[0m\u001b[1;33m[\u001b[0m\u001b[1;34m'Data'\u001b[0m\u001b[1;33m]\u001b[0m\u001b[1;33m[\u001b[0m\u001b[1;34m'Recording_0'\u001b[0m\u001b[1;33m]\u001b[0m\u001b[1;33m[\u001b[0m\u001b[1;34m'AnalogStream'\u001b[0m\u001b[1;33m]\u001b[0m\u001b[1;33m[\u001b[0m\u001b[1;34m'Stream_0'\u001b[0m\u001b[1;33m]\u001b[0m\u001b[1;33m[\u001b[0m\u001b[1;34m'ChannelData'\u001b[0m\u001b[1;33m]\u001b[0m\u001b[1;33m.\u001b[0m\u001b[0mkeys\u001b[0m\u001b[1;33m(\u001b[0m\u001b[1;33m)\u001b[0m\u001b[1;33m\u001b[0m\u001b[1;33m\u001b[0m\u001b[0m\n\u001b[0m",
      "\u001b[1;31mAttributeError\u001b[0m: 'Dataset' object has no attribute 'keys'"
     ]
    }
   ],
   "source": [
    "file_raw['Data']['Recording_0']['AnalogStream']['Stream_0']['ChannelData'].keys()"
   ]
  },
  {
   "cell_type": "code",
   "execution_count": null,
   "id": "1379188f",
   "metadata": {},
   "outputs": [],
   "source": []
  }
 ],
 "metadata": {
  "kernelspec": {
   "display_name": "Python 3 (ipykernel)",
   "language": "python",
   "name": "python3"
  },
  "language_info": {
   "codemirror_mode": {
    "name": "ipython",
    "version": 3
   },
   "file_extension": ".py",
   "mimetype": "text/x-python",
   "name": "python",
   "nbconvert_exporter": "python",
   "pygments_lexer": "ipython3",
   "version": "3.9.13"
  }
 },
 "nbformat": 4,
 "nbformat_minor": 5
}
