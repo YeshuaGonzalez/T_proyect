{
 "cells": [
  {
   "cell_type": "code",
   "execution_count": 1,
   "id": "de0ff58c",
   "metadata": {},
   "outputs": [],
   "source": [
    "import h5py\n",
    "import numpy as np\n",
    "import matplotlib.pyplot as plt\n",
    "path_fileh5 = \"E:\\\\Servicio\\\\MEA2\\\\20211004\\\\H5\\\\SPK\\\\\" "
   ]
  },
  {
   "cell_type": "code",
   "execution_count": 2,
   "id": "a9819aac",
   "metadata": {},
   "outputs": [],
   "source": [
    "# Carga de los archivos\n",
    "\n",
    "file_1 = h5py.File(path_fileh5+\"CTR20211004s01A_SPK.h5\", 'r')\n",
    "file_2 = h5py.File(path_fileh5+\"CTR20211004s01B_SPK.h5\", 'r')\n",
    "file_3 = h5py.File(path_fileh5+\"CTR20211004s01C_SPK.h5\", 'r')"
   ]
  },
  {
   "cell_type": "code",
   "execution_count": 3,
   "id": "d1deec5c",
   "metadata": {},
   "outputs": [],
   "source": [
    "keys_file1 = list(file_1['Data']['Recording_0']['SegmentStream']['Stream_0'].keys())\n",
    "keys_file2 = list(file_2['Data']['Recording_0']['SegmentStream']['Stream_0'].keys())\n",
    "keys_file3 = list(file_3['Data']['Recording_0']['SegmentStream']['Stream_0'].keys())"
   ]
  },
  {
   "cell_type": "code",
   "execution_count": 4,
   "id": "73942414",
   "metadata": {},
   "outputs": [
    {
     "data": {
      "text/plain": [
       "True"
      ]
     },
     "execution_count": 4,
     "metadata": {},
     "output_type": "execute_result"
    }
   ],
   "source": [
    "index = 4\n",
    "\"SegmentData\" in keys_file1[index] and not(\"ts\" in keys_file1[index])"
   ]
  },
  {
   "cell_type": "code",
   "execution_count": 5,
   "id": "0d45de73",
   "metadata": {},
   "outputs": [
    {
     "data": {
      "text/plain": [
       "'SegmentData_0'"
      ]
     },
     "execution_count": 5,
     "metadata": {},
     "output_type": "execute_result"
    }
   ],
   "source": [
    "keys_file1[1]\n",
    "#file_1['Data']['Recording_0']['SegmentStream']['Stream_0'].keys()"
   ]
  },
  {
   "cell_type": "code",
   "execution_count": 6,
   "id": "b7506876",
   "metadata": {},
   "outputs": [],
   "source": [
    "#Cocatenar archivos\n",
    "\n",
    "'''Obtener las llaves archivo 1'''\n",
    "\n",
    "keys_file1_segments = []\n",
    "\n",
    "for i in range(0, len(keys_file1)):\n",
    "    if \"SegmentData\" in keys_file1[i] and not(\"ts\" in keys_file1[i]):\n",
    "        keys_file1_segments.append(keys_file1[i])\n",
    "        \n",
    "'''Obtener las llaves archivo 2'''\n",
    "\n",
    "keys_file2_segments = []\n",
    "\n",
    "for i in range(0, len(keys_file2)):\n",
    "    if \"SegmentData\" in keys_file2[i] and not(\"ts\" in keys_file2[i]):\n",
    "        keys_file2_segments.append(keys_file2[i])\n",
    "        \n",
    "keys_file3_segments = []\n",
    "\n",
    "for i in range(0, len(keys_file3)):\n",
    "    if \"SegmentData\" in keys_file3[i] and not(\"ts\" in keys_file3[i]):\n",
    "        keys_file3_segments.append(keys_file3[i])"
   ]
  },
  {
   "cell_type": "code",
   "execution_count": 7,
   "id": "b59ad638",
   "metadata": {},
   "outputs": [
    {
     "name": "stdout",
     "output_type": "stream",
     "text": [
      "file1 :110 ; file2: 120; file3: 119\n",
      "Tamaño máximo de números: 120\n"
     ]
    }
   ],
   "source": [
    "print(\"file1 :{} ; file2: {}; file3: {}\".format(len(keys_file1_segments),len(keys_file2_segments),len(keys_file3_segments)))\n",
    "print(\"Tamaño máximo de números: {}\".format(max([len(keys_file1_segments),\n",
    "                                                len(keys_file2_segments),\n",
    "                                                len(keys_file3_segments)])))"
   ]
  },
  {
   "cell_type": "markdown",
   "id": "c86365ae",
   "metadata": {},
   "source": [
    "## Ejemplo para cocatenar"
   ]
  },
  {
   "cell_type": "code",
   "execution_count": 30,
   "id": "4f0dd11a",
   "metadata": {},
   "outputs": [
    {
     "name": "stdout",
     "output_type": "stream",
     "text": [
      "(12, 31)\n",
      "[ -98 -107   -4  118  108  111  469  231   40 -358 -622 -268   42   93\n",
      "    0  159  118  -20 -187   73   28   -4  -61  122 -221 -165   47   -6\n",
      "   90  -19   26]\n",
      "(51, 31)\n"
     ]
    }
   ],
   "source": [
    "e0_file1 = np.array(file_1['Data']['Recording_0']['SegmentStream']['Stream_0'][keys_file3_segments[0]]).T\n",
    "e0_file2 = np.array(file_2['Data']['Recording_0']['SegmentStream']['Stream_0'][keys_file3_segments[0]]).T\n",
    "e0_file3 = np.array(file_3['Data']['Recording_0']['SegmentStream']['Stream_0'][keys_file3_segments[0]]).T\n",
    "\n",
    "e0_np = np.concatenate((e0_file1,e0_file2,e0_file3), axis = 0)\n",
    "print(e0_file1.shape)\n",
    "print(e0_np[1])\n",
    "print(e0_np.shape)"
   ]
  },
  {
   "cell_type": "code",
   "execution_count": 29,
   "id": "89ad7326",
   "metadata": {},
   "outputs": [
    {
     "name": "stdout",
     "output_type": "stream",
     "text": [
      "{'SegmentData_0': array([[  89,   41, -124, ...,  279, -223,  -46],\n",
      "       [ -98, -107,   -4, ...,   90,  -19,   26],\n",
      "       [  23,   40,  174, ...,   -1,  -29,  139],\n",
      "       ...,\n",
      "       [-120, -201,   68, ..., -243,  -67,    2],\n",
      "       [ -13,   56,  198, ..., -215, -224, -118],\n",
      "       [  75,   58,  129, ..., -140,   87,   47]]), 'SegmentData_1': array([[  89,   41, -124, ...,  279, -223,  -46],\n",
      "       [ -98, -107,   -4, ...,   90,  -19,   26],\n",
      "       [  23,   40,  174, ...,   -1,  -29,  139],\n",
      "       ...,\n",
      "       [-120, -201,   68, ..., -243,  -67,    2],\n",
      "       [ -13,   56,  198, ..., -215, -224, -118],\n",
      "       [  75,   58,  129, ..., -140,   87,   47]])}\n",
      "(51, 31)\n"
     ]
    }
   ],
   "source": [
    "diccionario = dict()\n",
    "diccionario[keys_file3_segments[0]] = e0_np\n",
    "diccionario[keys_file3_segments[1]] = e0_np\n",
    "print(diccionario)\n",
    "print(diccionario['SegmentData_0'].shape)"
   ]
  },
  {
   "cell_type": "markdown",
   "id": "c357b21f",
   "metadata": {},
   "source": [
    "## Cocatenar Archivos"
   ]
  },
  {
   "cell_type": "code",
   "execution_count": 82,
   "id": "b55f4fd6",
   "metadata": {},
   "outputs": [
    {
     "name": "stdout",
     "output_type": "stream",
     "text": [
      "e: SegmentData_0, index: 0\n",
      "e: SegmentData_1, index: 1\n",
      "e: SegmentData_10, index: 2\n",
      "e: SegmentData_100, index: 3\n",
      "e: SegmentData_101, index: 4\n",
      "e: SegmentData_102, index: 5\n",
      "e: SegmentData_103, index: 6\n",
      "e: SegmentData_104, index: 7\n",
      "e: SegmentData_105, index: 8\n",
      "e: SegmentData_106, index: 9\n",
      "e: SegmentData_107, index: 10\n",
      "e: SegmentData_108, index: 11\n",
      "e: SegmentData_109, index: 12\n",
      "e: SegmentData_11, index: 13\n",
      "e: SegmentData_110, index: 14\n",
      "3\n",
      "e: SegmentData_111, index: 15\n",
      "e: SegmentData_112, index: 16\n",
      "e: SegmentData_113, index: 17\n",
      "e: SegmentData_114, index: 18\n",
      "e: SegmentData_115, index: 19\n",
      "e: SegmentData_116, index: 20\n",
      "e: SegmentData_117, index: 21\n",
      "e: SegmentData_118, index: 22\n",
      "e: SegmentData_119, index: 23\n",
      "e: SegmentData_12, index: 24\n",
      "e: SegmentData_13, index: 25\n",
      "e: SegmentData_14, index: 26\n",
      "e: SegmentData_15, index: 27\n",
      "e: SegmentData_16, index: 28\n",
      "e: SegmentData_17, index: 29\n",
      "e: SegmentData_18, index: 30\n",
      "e: SegmentData_19, index: 31\n",
      "e: SegmentData_2, index: 32\n",
      "e: SegmentData_20, index: 33\n",
      "e: SegmentData_21, index: 34\n",
      "e: SegmentData_22, index: 35\n",
      "e: SegmentData_23, index: 36\n",
      "e: SegmentData_24, index: 37\n",
      "e: SegmentData_25, index: 38\n",
      "e: SegmentData_26, index: 39\n",
      "e: SegmentData_27, index: 40\n",
      "e: SegmentData_28, index: 41\n",
      "e: SegmentData_29, index: 42\n",
      "e: SegmentData_3, index: 43\n",
      "e: SegmentData_30, index: 44\n",
      "e: SegmentData_31, index: 45\n",
      "e: SegmentData_32, index: 46\n",
      "e: SegmentData_33, index: 47\n",
      "e: SegmentData_34, index: 48\n",
      "e: SegmentData_35, index: 49\n",
      "e: SegmentData_36, index: 50\n",
      "e: SegmentData_37, index: 51\n",
      "e: SegmentData_38, index: 52\n",
      "e: SegmentData_39, index: 53\n",
      "e: SegmentData_4, index: 54\n",
      "e: SegmentData_40, index: 55\n",
      "e: SegmentData_41, index: 56\n",
      "e: SegmentData_42, index: 57\n",
      "e: SegmentData_43, index: 58\n",
      "e: SegmentData_44, index: 59\n",
      "e: SegmentData_45, index: 60\n",
      "e: SegmentData_46, index: 61\n",
      "e: SegmentData_47, index: 62\n",
      "e: SegmentData_48, index: 63\n",
      "e: SegmentData_49, index: 64\n",
      "e: SegmentData_5, index: 65\n",
      "e: SegmentData_50, index: 66\n",
      "e: SegmentData_51, index: 67\n",
      "e: SegmentData_52, index: 68\n",
      "e: SegmentData_53, index: 69\n",
      "e: SegmentData_54, index: 70\n",
      "e: SegmentData_55, index: 71\n",
      "e: SegmentData_56, index: 72\n",
      "e: SegmentData_57, index: 73\n",
      "e: SegmentData_58, index: 74\n",
      "e: SegmentData_59, index: 75\n",
      "e: SegmentData_6, index: 76\n",
      "e: SegmentData_60, index: 77\n",
      "e: SegmentData_61, index: 78\n",
      "e: SegmentData_62, index: 79\n",
      "e: SegmentData_63, index: 80\n",
      "e: SegmentData_64, index: 81\n",
      "e: SegmentData_65, index: 82\n",
      "e: SegmentData_66, index: 83\n",
      "e: SegmentData_67, index: 84\n",
      "e: SegmentData_68, index: 85\n",
      "e: SegmentData_69, index: 86\n",
      "e: SegmentData_7, index: 87\n",
      "e: SegmentData_70, index: 88\n",
      "e: SegmentData_71, index: 89\n",
      "e: SegmentData_72, index: 90\n",
      "e: SegmentData_73, index: 91\n",
      "e: SegmentData_74, index: 92\n",
      "e: SegmentData_75, index: 93\n",
      "e: SegmentData_76, index: 94\n",
      "e: SegmentData_77, index: 95\n",
      "e: SegmentData_78, index: 96\n",
      "e: SegmentData_79, index: 97\n",
      "e: SegmentData_8, index: 98\n",
      "e: SegmentData_80, index: 99\n",
      "e: SegmentData_81, index: 100\n",
      "e: SegmentData_82, index: 101\n",
      "e: SegmentData_83, index: 102\n",
      "e: SegmentData_84, index: 103\n",
      "e: SegmentData_85, index: 104\n",
      "e: SegmentData_86, index: 105\n",
      "e: SegmentData_87, index: 106\n",
      "e: SegmentData_88, index: 107\n",
      "e: SegmentData_89, index: 108\n",
      "e: SegmentData_9, index: 109\n",
      "e: SegmentData_90, index: 110\n",
      "e: SegmentData_91, index: 111\n",
      "e: SegmentData_92, index: 112\n",
      "e: SegmentData_93, index: 113\n",
      "e: SegmentData_94, index: 114\n",
      "e: SegmentData_95, index: 115\n",
      "e: SegmentData_96, index: 116\n",
      "e: SegmentData_97, index: 117\n",
      "e: SegmentData_98, index: 118\n",
      "e: SegmentData_99, index: 119\n"
     ]
    }
   ],
   "source": [
    "#Ya que 120 es el número máximo de electrodos\n",
    "#sabemos que en al menos un archivo hay registros en todo los electrodos\n",
    "\n",
    "'''Cocatenar archivos'''\n",
    "\n",
    "electrodes = dict()\n",
    "\n",
    "for i in range(0, len(keys_file2_segments)):\n",
    "    print(\"e: {}, index: {}\".format(keys_file2_segments[i], i))\n",
    "    \n",
    "    # ARCHIVO 1\n",
    "    try:\n",
    "        e_file1_temp = np.array(file_1['Data']['Recording_0']['SegmentStream']['Stream_0'][keys_file2_segments[i]]).T\n",
    "    except KeyError:\n",
    "        e_file1_temp = np.array([])\n",
    "    #ARCHIVO 2\n",
    "    try:\n",
    "        e_file2_temp = np.array(file_2['Data']['Recording_0']['SegmentStream']['Stream_0'][keys_file2_segments[i]]).T\n",
    "    except KeyError:\n",
    "        e_file2_temp = np.array([])\n",
    "    #ARCHIVO 3\n",
    "    try:\n",
    "        e_file3_temp = np.array(file_3['Data']['Recording_0']['SegmentStream']['Stream_0'][keys_file2_segments[i]]).T\n",
    "    except KeyError:\n",
    "        e_file3_temp = np.array([])\n",
    "        \n",
    "    args=[e_file1_temp,e_file2_temp,e_file3_temp]\n",
    "    empty_args = []\n",
    "    \n",
    "    #Ver que arreglos estan vacíos y guardar su indice en la lista \"empty_args\"\n",
    "    for j in range(0,len(args)):\n",
    "        if len(args[j])==0: #La variable está vacía\n",
    "            empty_args.append(j)\n",
    "\n",
    "    for k in range(len(empty_args)-1,-1,-1): # for recorre el arreglo del último elemento al primero\n",
    "        # Para borrar indices que si existen\n",
    "        args.pop(empty_args[k])\n",
    "    if i == 14:\n",
    "        print(len(args))\n",
    "        \n",
    "    e_np_temp = np.concatenate(args, axis = 0)\n",
    "    \n",
    "    electrodes[keys_file2_segments[i]] = e_np_temp\n",
    "    "
   ]
  },
  {
   "cell_type": "code",
   "execution_count": 93,
   "id": "abeb6ac8",
   "metadata": {},
   "outputs": [
    {
     "name": "stdout",
     "output_type": "stream",
     "text": [
      "SegmentData_0   -> F1: 12  , F2: 19  , F3: 20  , C: 51  \n",
      "SegmentData_1   -> F1: 3   , F2: 11  , F3: 17  , C: 31  \n",
      "SegmentData_10  -> F1: 10  , F2: 14  , F3: 5   , C: 29  \n",
      "SegmentData_100 -> F1: 203 , F2: 159 , F3: 91  , C: 453 \n",
      "SegmentData_101 -> F1: 115 , F2: 117 , F3: 157 , C: 389 \n",
      "SegmentData_102 -> F1: 9   , F2: 27  , F3: 28  , C: 64  \n",
      "SegmentData_103 -> F1: 150 , F2: 228 , F3: 368 , C: 746 \n",
      "SegmentData_104 -> F1: 68  , F2: 79  , F3: 102 , C: 249 \n",
      "SegmentData_105 -> F1: 114 , F2: 69  , F3: 15  , C: 198 \n",
      "SegmentData_106 -> F1: 58  , F2: 59  , F3: 79  , C: 196 \n",
      "SegmentData_107 -> F1: 73  , F2: 136 , F3: 158 , C: 367 \n",
      "SegmentData_108 -> F1: 118 , F2: 72  , F3: 32  , C: 222 \n",
      "SegmentData_109 -> F1: 14  , F2: 63  , F3: 49  , C: 126 \n",
      "SegmentData_11  -> F1: 0   , F2: 3   , F3: 3   , C: 6   \n",
      "SegmentData_110 -> F1: 43  , F2: 58  , F3: 99  , C: 200 \n",
      "SegmentData_111 -> F1: 3   , F2: 32  , F3: 33  , C: 68  \n",
      "SegmentData_112 -> F1: 14  , F2: 34  , F3: 78  , C: 126 \n",
      "SegmentData_113 -> F1: 5   , F2: 26  , F3: 23  , C: 54  \n",
      "SegmentData_114 -> F1: 0   , F2: 18  , F3: 20  , C: 38  \n",
      "SegmentData_115 -> F1: 3   , F2: 26  , F3: 19  , C: 48  \n",
      "SegmentData_116 -> F1: 4   , F2: 23  , F3: 20  , C: 47  \n",
      "SegmentData_117 -> F1: 8   , F2: 14  , F3: 21  , C: 43  \n",
      "SegmentData_118 -> F1: 826 , F2: 882 , F3: 1123, C: 2831\n",
      "SegmentData_119 -> F1: 111 , F2: 134 , F3: 168 , C: 413 \n",
      "SegmentData_12  -> F1: 2   , F2: 3   , F3: 1   , C: 6   \n",
      "SegmentData_13  -> F1: 4   , F2: 7   , F3: 7   , C: 18  \n",
      "SegmentData_14  -> F1: 4   , F2: 14  , F3: 15  , C: 33  \n",
      "SegmentData_15  -> F1: 4   , F2: 686 , F3: 1187, C: 1877\n",
      "SegmentData_16  -> F1: 1   , F2: 12  , F3: 13  , C: 26  \n",
      "SegmentData_17  -> F1: 2   , F2: 11  , F3: 17  , C: 30  \n",
      "SegmentData_18  -> F1: 0   , F2: 15  , F3: 20  , C: 35  \n",
      "SegmentData_19  -> F1: 2   , F2: 13  , F3: 14  , C: 29  \n",
      "SegmentData_2   -> F1: 3   , F2: 13  , F3: 19  , C: 35  \n",
      "SegmentData_20  -> F1: 4   , F2: 14  , F3: 20  , C: 38  \n",
      "SegmentData_21  -> F1: 1   , F2: 14  , F3: 14  , C: 29  \n",
      "SegmentData_22  -> F1: 3   , F2: 16  , F3: 17  , C: 36  \n",
      "SegmentData_23  -> F1: 0   , F2: 12  , F3: 12  , C: 24  \n",
      "SegmentData_24  -> F1: 31  , F2: 54  , F3: 116 , C: 201 \n",
      "SegmentData_25  -> F1: 4   , F2: 11  , F3: 6   , C: 21  \n",
      "SegmentData_26  -> F1: 2   , F2: 17  , F3: 19  , C: 38  \n",
      "SegmentData_27  -> F1: 2   , F2: 10  , F3: 11  , C: 23  \n",
      "SegmentData_28  -> F1: 47  , F2: 27  , F3: 32  , C: 106 \n",
      "SegmentData_29  -> F1: 195 , F2: 149 , F3: 267 , C: 611 \n",
      "SegmentData_3   -> F1: 2   , F2: 16  , F3: 18  , C: 36  \n",
      "SegmentData_30  -> F1: 52  , F2: 75  , F3: 145 , C: 272 \n",
      "SegmentData_31  -> F1: 7   , F2: 10  , F3: 8   , C: 25  \n",
      "SegmentData_32  -> F1: 37  , F2: 45  , F3: 39  , C: 121 \n",
      "SegmentData_33  -> F1: 2   , F2: 12  , F3: 24  , C: 38  \n",
      "SegmentData_34  -> F1: 60  , F2: 91  , F3: 127 , C: 278 \n",
      "SegmentData_35  -> F1: 7   , F2: 22  , F3: 26  , C: 55  \n",
      "SegmentData_36  -> F1: 8   , F2: 13  , F3: 14  , C: 35  \n",
      "SegmentData_37  -> F1: 134 , F2: 57  , F3: 107 , C: 298 \n",
      "SegmentData_38  -> F1: 181 , F2: 270 , F3: 196 , C: 647 \n",
      "SegmentData_39  -> F1: 26  , F2: 21  , F3: 26  , C: 73  \n",
      "SegmentData_4   -> F1: 136 , F2: 115 , F3: 116 , C: 367 \n",
      "SegmentData_40  -> F1: 32  , F2: 48  , F3: 34  , C: 114 \n",
      "SegmentData_41  -> F1: 503 , F2: 53  , F3: 65  , C: 621 \n",
      "SegmentData_42  -> F1: 290 , F2: 340 , F3: 289 , C: 919 \n",
      "SegmentData_43  -> F1: 4   , F2: 38  , F3: 30  , C: 72  \n",
      "SegmentData_44  -> F1: 446 , F2: 101 , F3: 183 , C: 730 \n",
      "SegmentData_45  -> F1: 38  , F2: 87  , F3: 403 , C: 528 \n",
      "SegmentData_46  -> F1: 315 , F2: 87  , F3: 328 , C: 730 \n",
      "SegmentData_47  -> F1: 1   , F2: 10  , F3: 25  , C: 36  \n",
      "SegmentData_48  -> F1: 148 , F2: 102 , F3: 163 , C: 413 \n",
      "SegmentData_49  -> F1: 121 , F2: 69  , F3: 43  , C: 233 \n",
      "SegmentData_5   -> F1: 3   , F2: 18  , F3: 16  , C: 37  \n",
      "SegmentData_50  -> F1: 88  , F2: 93  , F3: 114 , C: 295 \n",
      "SegmentData_51  -> F1: 39  , F2: 28  , F3: 35  , C: 102 \n",
      "SegmentData_52  -> F1: 2   , F2: 16  , F3: 29  , C: 47  \n",
      "SegmentData_53  -> F1: 63  , F2: 104 , F3: 51  , C: 218 \n",
      "SegmentData_54  -> F1: 7   , F2: 10  , F3: 18  , C: 35  \n",
      "SegmentData_55  -> F1: 6   , F2: 15  , F3: 24  , C: 45  \n",
      "SegmentData_56  -> F1: 0   , F2: 2   , F3: 1   , C: 3   \n",
      "SegmentData_57  -> F1: 0   , F2: 4   , F3: 2   , C: 6   \n",
      "SegmentData_58  -> F1: 0   , F2: 4   , F3: 2   , C: 6   \n",
      "SegmentData_59  -> F1: 0   , F2: 4   , F3: 2   , C: 6   \n",
      "SegmentData_6   -> F1: 3   , F2: 19  , F3: 19  , C: 41  \n",
      "SegmentData_60  -> F1: 0   , F2: 4   , F3: 2   , C: 6   \n",
      "SegmentData_61  -> F1: 0   , F2: 4   , F3: 2   , C: 6   \n",
      "SegmentData_62  -> F1: 515 , F2: 374 , F3: 19  , C: 908 \n",
      "SegmentData_63  -> F1: 113 , F2: 153 , F3: 162 , C: 428 \n",
      "SegmentData_64  -> F1: 294 , F2: 467 , F3: 1954, C: 2715\n",
      "SegmentData_65  -> F1: 17  , F2: 20  , F3: 35  , C: 72  \n",
      "SegmentData_66  -> F1: 42  , F2: 23  , F3: 45  , C: 110 \n",
      "SegmentData_67  -> F1: 32  , F2: 19  , F3: 42  , C: 93  \n",
      "SegmentData_68  -> F1: 1332, F2: 1118, F3: 1114, C: 3564\n",
      "SegmentData_69  -> F1: 115 , F2: 39  , F3: 54  , C: 208 \n",
      "SegmentData_7   -> F1: 7   , F2: 29  , F3: 41  , C: 77  \n",
      "SegmentData_70  -> F1: 29  , F2: 49  , F3: 58  , C: 136 \n",
      "SegmentData_71  -> F1: 104 , F2: 77  , F3: 99  , C: 280 \n",
      "SegmentData_72  -> F1: 74  , F2: 93  , F3: 136 , C: 303 \n",
      "SegmentData_73  -> F1: 39  , F2: 58  , F3: 124 , C: 221 \n",
      "SegmentData_74  -> F1: 44  , F2: 161 , F3: 52  , C: 257 \n",
      "SegmentData_75  -> F1: 18  , F2: 20  , F3: 43  , C: 81  \n",
      "SegmentData_76  -> F1: 129 , F2: 109 , F3: 148 , C: 386 \n",
      "SegmentData_77  -> F1: 427 , F2: 167 , F3: 107 , C: 701 \n",
      "SegmentData_78  -> F1: 40  , F2: 70  , F3: 72  , C: 182 \n",
      "SegmentData_79  -> F1: 45  , F2: 109 , F3: 34  , C: 188 \n",
      "SegmentData_8   -> F1: 3   , F2: 29  , F3: 45  , C: 77  \n",
      "SegmentData_80  -> F1: 172 , F2: 221 , F3: 164 , C: 557 \n",
      "SegmentData_81  -> F1: 114 , F2: 114 , F3: 75  , C: 303 \n",
      "SegmentData_82  -> F1: 87  , F2: 145 , F3: 193 , C: 425 \n",
      "SegmentData_83  -> F1: 14  , F2: 21  , F3: 21  , C: 56  \n",
      "SegmentData_84  -> F1: 27  , F2: 124 , F3: 387 , C: 538 \n",
      "SegmentData_85  -> F1: 23  , F2: 39  , F3: 59  , C: 121 \n",
      "SegmentData_86  -> F1: 52  , F2: 54  , F3: 65  , C: 171 \n",
      "SegmentData_87  -> F1: 3   , F2: 5   , F3: 2   , C: 10  \n",
      "SegmentData_88  -> F1: 6   , F2: 24  , F3: 36  , C: 66  \n",
      "SegmentData_89  -> F1: 79  , F2: 65  , F3: 98  , C: 242 \n",
      "SegmentData_9   -> F1: 15  , F2: 35  , F3: 117 , C: 167 \n",
      "SegmentData_90  -> F1: 10  , F2: 17  , F3: 22  , C: 49  \n",
      "SegmentData_91  -> F1: 2   , F2: 1   , F3: 0   , C: 3   \n",
      "SegmentData_92  -> F1: 30  , F2: 69  , F3: 64  , C: 163 \n",
      "SegmentData_93  -> F1: 170 , F2: 42  , F3: 30  , C: 242 \n",
      "SegmentData_94  -> F1: 135 , F2: 128 , F3: 102 , C: 365 \n",
      "SegmentData_95  -> F1: 41  , F2: 13  , F3: 36  , C: 90  \n",
      "SegmentData_96  -> F1: 149 , F2: 181 , F3: 106 , C: 436 \n",
      "SegmentData_97  -> F1: 94  , F2: 88  , F3: 108 , C: 290 \n",
      "SegmentData_98  -> F1: 60  , F2: 86  , F3: 132 , C: 278 \n",
      "SegmentData_99  -> F1: 148 , F2: 274 , F3: 482 , C: 904 \n"
     ]
    }
   ],
   "source": [
    "len(electrodes)\n",
    "for key in electrodes.keys():\n",
    "    try:\n",
    "        tam_1 = len(np.array(file_1['Data']['Recording_0']['SegmentStream']['Stream_0'][key]).T)\n",
    "    except KeyError:\n",
    "        tam_1 = 0\n",
    "        \n",
    "    try:\n",
    "        tam_2 = len(np.array(file_2['Data']['Recording_0']['SegmentStream']['Stream_0'][key]).T)\n",
    "    except KeyError:\n",
    "        tam_2 = 0\n",
    "        \n",
    "    try:\n",
    "        tam_3 = len(np.array(file_3['Data']['Recording_0']['SegmentStream']['Stream_0'][key]).T)\n",
    "    except KeyError:\n",
    "        tam_3 = 0\n",
    "    print(\"{:<16}-> F1: {:<4}, F2: {:<4}, F3: {:<4}, C: {:<4}\".format(key,tam_1, tam_2, tam_3, len(electrodes[key])))"
   ]
  },
  {
   "cell_type": "code",
   "execution_count": 100,
   "id": "10263615",
   "metadata": {},
   "outputs": [],
   "source": [
    "##Generar un archivo PKL\n",
    "import pickle \n",
    "\n",
    "# Escritura en modo binario, vacía el fichero si existe\n",
    "electrodes_file = open('CTR20211004s01.pckl','wb')\n",
    "# Escribe la colección en el fichero \n",
    "pickle.dump(electrodes, electrodes_file) \n",
    "electrodes_file.close()"
   ]
  },
  {
   "cell_type": "code",
   "execution_count": 98,
   "id": "e0c30100",
   "metadata": {},
   "outputs": [
    {
     "name": "stdout",
     "output_type": "stream",
     "text": [
      "3564\n"
     ]
    },
    {
     "data": {
      "image/png": "[encoded data removed]",
      "text/plain": [
       "<Figure size 640x480 with 1 Axes>"
      ]
     },
     "metadata": {},
     "output_type": "display_data"
    }
   ],
   "source": [
    "plt.plot(electrodes['SegmentData_68'].T)\n",
    "print(len(electrodes['SegmentData_68']))"
   ]
  },
  {
   "cell_type": "code",
   "execution_count": 76,
   "id": "76210c70",
   "metadata": {
    "scrolled": true
   },
   "outputs": [
    {
     "name": "stdout",
     "output_type": "stream",
     "text": [
      "[[0 1 2 3]\n",
      " [1 1 1 1]]\n",
      "[[4 5 6 7]\n",
      " [2 2 2 2]]\n",
      "[]\n",
      "La variable está vacía\n",
      "[]\n",
      "La variable está vacía\n",
      "[]\n",
      "La variable está vacía\n",
      "Lista de variables vacías: \n",
      "[2, 3, 4]\n",
      "\n",
      "4\n",
      "3\n",
      "2\n",
      "[[0 1 2 3]\n",
      " [1 1 1 1]]\n",
      "[[4 5 6 7]\n",
      " [2 2 2 2]]\n",
      "\n",
      "[[0 1 2 3]\n",
      " [1 1 1 1]\n",
      " [4 5 6 7]\n",
      " [2 2 2 2]]\n"
     ]
    }
   ],
   "source": [
    "'''Prueba cocatenar arreglos con arreglos vacíos'''\n",
    "arreglo1 = np.array([[0,1,2,3],[1,1,1,1]])\n",
    "arreglo2 = np.array([[4,5,6,7],[2,2,2,2]])\n",
    "vacio = np.array([])\n",
    "vacio1 = np.array([])\n",
    "vacio2 = np.array([])\n",
    "\n",
    "args = [arreglo1,arreglo2,vacio, vacio1, vacio2] #Esto es una tupla\n",
    "args2 = []\n",
    "\n",
    "for i in range(0,len(args)):\n",
    "    print(args[i])\n",
    "    if len(args[i])==0:\n",
    "        print(\"La variable está vacía\")\n",
    "        args2.append(i)\n",
    "        #arreglos_vacios.append(args[i].name)\n",
    "\n",
    "print(\"Lista de variables vacías: \")\n",
    "print(args2)\n",
    "print(\"\")\n",
    "for i in range(len(args2)-1,-1,-1):\n",
    "    print(args2[i])\n",
    "    args.pop(args2[i])\n",
    "    \n",
    "    \n",
    "#Lista de variables sin varibles vacías\n",
    "for i in range(0,len(args)):\n",
    "    print(args[i])\n",
    "#junto = np.concatenate((arreglo1,vacio,arreglo2),axis=0)\n",
    "\n",
    "'''for i in range(0,len(args)):\n",
    "    print(args[i])\n",
    "\n",
    "print(\"\")\n",
    "args.pop(len(args)-1)\n",
    "for i in range(0,len(args)):\n",
    "    print(args[i])'''\n",
    "\n",
    "junto = np.concatenate(args,axis=0)\n",
    "\n",
    "print(\"\")\n",
    "print(junto)"
   ]
  },
  {
   "cell_type": "code",
   "execution_count": null,
   "id": "2cbaafc1",
   "metadata": {},
   "outputs": [],
   "source": []
  }
 ],
 "metadata": {
  "kernelspec": {
   "display_name": "Python 3 (ipykernel)",
   "language": "python",
   "name": "python3"
  },
  "language_info": {
   "codemirror_mode": {
    "name": "ipython",
    "version": 3
   },
   "file_extension": ".py",
   "mimetype": "text/x-python",
   "name": "python",
   "nbconvert_exporter": "python",
   "pygments_lexer": "ipython3",
   "version": "3.9.13"
  }
 },
 "nbformat": 4,
 "nbformat_minor": 5
}
